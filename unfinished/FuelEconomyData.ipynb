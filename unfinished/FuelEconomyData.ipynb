{
 "cells": [
  {
   "cell_type": "code",
   "execution_count": 1,
   "metadata": {},
   "outputs": [],
   "source": [
    "import requests as r\n",
    "import pandas as pd"
   ]
  },
  {
   "cell_type": "code",
   "execution_count": 2,
   "metadata": {},
   "outputs": [],
   "source": [
    "# Had to specify the header otherwise the response would come in xml\n",
    "headers = {'Accept': 'application/json'}\n",
    "url = \"https://www.fueleconomy.gov/ws/rest/vehicle/31873\"\n",
    "\n",
    "resp = r.get(url, headers= headers)"
   ]
  },
  {
   "cell_type": "code",
   "execution_count": 5,
   "metadata": {},
   "outputs": [],
   "source": [
    "fuel_economy_data_df = pd.DataFrame(resp.json())"
   ]
  },
  {
   "cell_type": "code",
   "execution_count": 6,
   "metadata": {},
   "outputs": [
    {
     "data": {
      "text/html": [
       "<div>\n",
       "<style scoped>\n",
       "    .dataframe tbody tr th:only-of-type {\n",
       "        vertical-align: middle;\n",
       "    }\n",
       "\n",
       "    .dataframe tbody tr th {\n",
       "        vertical-align: top;\n",
       "    }\n",
       "\n",
       "    .dataframe thead th {\n",
       "        text-align: right;\n",
       "    }\n",
       "</style>\n",
       "<table border=\"1\" class=\"dataframe\">\n",
       "  <thead>\n",
       "    <tr style=\"text-align: right;\">\n",
       "      <th></th>\n",
       "      <th>atvType</th>\n",
       "      <th>barrels08</th>\n",
       "      <th>barrelsA08</th>\n",
       "      <th>c240Dscr</th>\n",
       "      <th>c240bDscr</th>\n",
       "      <th>charge120</th>\n",
       "      <th>charge240</th>\n",
       "      <th>charge240b</th>\n",
       "      <th>city08</th>\n",
       "      <th>city08U</th>\n",
       "      <th>...</th>\n",
       "      <th>UCity</th>\n",
       "      <th>UCityA</th>\n",
       "      <th>UHighway</th>\n",
       "      <th>UHighwayA</th>\n",
       "      <th>VClass</th>\n",
       "      <th>year</th>\n",
       "      <th>youSaveSpend</th>\n",
       "      <th>baseModel</th>\n",
       "      <th>sCharger</th>\n",
       "      <th>tCharger</th>\n",
       "    </tr>\n",
       "  </thead>\n",
       "  <tbody>\n",
       "    <tr>\n",
       "      <th>emissionsInfo</th>\n",
       "      <td>FFV</td>\n",
       "      <td>19.834</td>\n",
       "      <td>5.806363636363637</td>\n",
       "      <td></td>\n",
       "      <td></td>\n",
       "      <td>0.0</td>\n",
       "      <td>0.0</td>\n",
       "      <td>0.0</td>\n",
       "      <td>13</td>\n",
       "      <td>13.2097</td>\n",
       "      <td>...</td>\n",
       "      <td>16.2</td>\n",
       "      <td>11.7</td>\n",
       "      <td>22.9</td>\n",
       "      <td>16.6</td>\n",
       "      <td>Vans, Cargo Type</td>\n",
       "      <td>2012</td>\n",
       "      <td>-8500</td>\n",
       "      <td>E150 Van</td>\n",
       "      <td></td>\n",
       "      <td></td>\n",
       "    </tr>\n",
       "  </tbody>\n",
       "</table>\n",
       "<p>1 rows × 86 columns</p>\n",
       "</div>"
      ],
      "text/plain": [
       "              atvType barrels08         barrelsA08 c240Dscr c240bDscr  \\\n",
       "emissionsInfo     FFV    19.834  5.806363636363637                      \n",
       "\n",
       "              charge120 charge240 charge240b city08  city08U  ... UCity  \\\n",
       "emissionsInfo       0.0       0.0        0.0     13  13.2097  ...  16.2   \n",
       "\n",
       "              UCityA UHighway UHighwayA            VClass  year youSaveSpend  \\\n",
       "emissionsInfo   11.7     22.9      16.6  Vans, Cargo Type  2012        -8500   \n",
       "\n",
       "              baseModel sCharger tCharger  \n",
       "emissionsInfo  E150 Van                    \n",
       "\n",
       "[1 rows x 86 columns]"
      ]
     },
     "execution_count": 6,
     "metadata": {},
     "output_type": "execute_result"
    }
   ],
   "source": [
    "fuel_economy_data_df"
   ]
  }
 ],
 "metadata": {
  "kernelspec": {
   "display_name": "Python 3",
   "language": "python",
   "name": "python3"
  },
  "language_info": {
   "codemirror_mode": {
    "name": "ipython",
    "version": 3
   },
   "file_extension": ".py",
   "mimetype": "text/x-python",
   "name": "python",
   "nbconvert_exporter": "python",
   "pygments_lexer": "ipython3",
   "version": "3.10.8"
  },
  "orig_nbformat": 4
 },
 "nbformat": 4,
 "nbformat_minor": 2
}
